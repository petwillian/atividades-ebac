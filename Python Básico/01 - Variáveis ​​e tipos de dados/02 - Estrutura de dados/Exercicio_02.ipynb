{
  "nbformat": 4,
  "nbformat_minor": 0,
  "metadata": {
    "colab": {
      "provenance": []
    },
    "kernelspec": {
      "name": "python3",
      "display_name": "Python 3"
    }
  },
  "cells": [
    {
      "cell_type": "markdown",
      "metadata": {
        "id": "KJqp9AANOCtf"
      },
      "source": [
        "<img src=\"https://raw.githubusercontent.com/andre-marcos-perez/ebac-course-utils/main/media/logo/newebac_logo_black_half.png\" alt=\"ebac-logo\">\n",
        "\n",
        "---\n",
        "\n",
        "# **Módulo** | Python: Estruturas de Dados\n",
        "Caderno de **Exercícios**<br>\n",
        "Professor [André Perez](https://www.linkedin.com/in/andremarcosperez/)\n",
        "\n",
        "---"
      ]
    },
    {
      "cell_type": "markdown",
      "metadata": {
        "id": "d9jDtUbDOE1-"
      },
      "source": [
        "# **Tópicos**\n",
        "\n",
        "<ol type=\"1\">\n",
        "  <li>Listas;</li>\n",
        "  <li>Conjuntos;</li>\n",
        "  <li>Dicionários.</li>\n",
        "</ol>"
      ]
    },
    {
      "cell_type": "markdown",
      "metadata": {
        "id": "SmoHgt-lwkpD"
      },
      "source": [
        "---"
      ]
    },
    {
      "cell_type": "markdown",
      "metadata": {
        "id": "GABI6OW8OfQ2"
      },
      "source": [
        "# **Exercícios**"
      ]
    },
    {
      "cell_type": "markdown",
      "metadata": {
        "id": "muD1vxozykSC"
      },
      "source": [
        "## 1\\. Listas"
      ]
    },
    {
      "cell_type": "markdown",
      "metadata": {
        "id": "ahrFfCuBxJKs"
      },
      "source": [
        "Criei uma lista chamada `filmes` com o nome dos 10 primeiros filmes mais bem avaliados no site no [IMDB](https://www.imdb.com/chart/top/). Imprima o resultado."
      ]
    },
    {
      "cell_type": "code",
      "metadata": {
        "id": "OgL6Hv3bzOHI",
        "colab": {
          "base_uri": "https://localhost:8080/"
        },
        "outputId": "287980db-49b6-4c0b-a880-9e8f650bb263"
      },
      "source": [
        "filmes = ['Um Sonho de Liberdade',  'O Poderoso Chefão',  'Batman - O Cavaleiro das Trevas', 'O Poderoso Chefão II',' 12 Homens e uma Sentença',  'A Lista de Schindler', 'O Senhor dos Anéis: O Retorno do Rei', 'Pulp Fiction',' Tempo de Violência', 'O Senhor dos Anéis: A Sociedade do Anel','Três Homens em Conflito' ]\n",
        "\n",
        "print(filmes)"
      ],
      "execution_count": 11,
      "outputs": [
        {
          "output_type": "stream",
          "name": "stdout",
          "text": [
            "['Um Sonho de Liberdade', 'O Poderoso Chefão', 'Batman - O Cavaleiro das Trevas', 'O Poderoso Chefão II', ' 12 Homens e uma Sentença', 'A Lista de Schindler', 'O Senhor dos Anéis: O Retorno do Rei', 'Pulp Fiction', ' Tempo de Violência', 'O Senhor dos Anéis: A Sociedade do Anel', 'Três Homens em Conflito']\n"
          ]
        }
      ]
    },
    {
      "cell_type": "markdown",
      "metadata": {
        "id": "KI9zQRT2xa7m"
      },
      "source": [
        "Simule a movimentação do *ranking*. Utilize os métodos `insert` e `pop` para trocar a posição do primeiro e do segundo filme da lista. Imprima o resultado.\n",
        "\n"
      ]
    },
    {
      "cell_type": "code",
      "metadata": {
        "id": "zX3mA3_GzrXH",
        "colab": {
          "base_uri": "https://localhost:8080/"
        },
        "outputId": "db165d96-7ce6-4c26-f645-58d10a963a04"
      },
      "source": [
        "# inserir um elemento sem substituir: list.insert(index, val)\n",
        "filmes.insert(0,'O Poderoso Chefão')\n",
        "\n",
        "# remover um elemento pelo índice: list.pop(val)\n",
        "segundo_filmes = filmes.pop(2)\n",
        "print(filmes)\n",
        "print(segundo_filmes)"
      ],
      "execution_count": 12,
      "outputs": [
        {
          "output_type": "stream",
          "name": "stdout",
          "text": [
            "['O Poderoso Chefão', 'Um Sonho de Liberdade', 'Batman - O Cavaleiro das Trevas', 'O Poderoso Chefão II', ' 12 Homens e uma Sentença', 'A Lista de Schindler', 'O Senhor dos Anéis: O Retorno do Rei', 'Pulp Fiction', ' Tempo de Violência', 'O Senhor dos Anéis: A Sociedade do Anel', 'Três Homens em Conflito']\n",
            "O Poderoso Chefão\n"
          ]
        }
      ]
    },
    {
      "cell_type": "markdown",
      "metadata": {
        "id": "zMN1Q3jdwoJm"
      },
      "source": [
        "---"
      ]
    },
    {
      "cell_type": "markdown",
      "metadata": {
        "id": "lxa5L6uF0ZJE"
      },
      "source": [
        "## 2\\. Conjuntos"
      ]
    },
    {
      "cell_type": "markdown",
      "metadata": {
        "id": "9JahS2Kj0d5u"
      },
      "source": [
        "Aconteceu um erro no seu *ranking*. Simule a duplicação dos três últimos filmes da lista. Imprima o resultado."
      ]
    },
    {
      "cell_type": "code",
      "metadata": {
        "id": "BnjnLBNC6PGe",
        "colab": {
          "base_uri": "https://localhost:8080/"
        },
        "outputId": "e482877a-db87-4fcf-d3f2-a7f962eb9c4a"
      },
      "source": [
        "filmes = ['Um Sonho de Liberdade',  'O Poderoso Chefão',  'Batman - O Cavaleiro das Trevas', 'O Poderoso Chefão II',' 12 Homens e uma Sentença',  'A Lista de Schindler', 'O Senhor dos Anéis: O Retorno do Rei', 'Pulp Fiction',' Tempo de Violência', 'O Senhor dos Anéis: A Sociedade do Anel','Três Homens em Conflito']\n",
        "\n",
        "print(filmes)"
      ],
      "execution_count": 13,
      "outputs": [
        {
          "output_type": "stream",
          "name": "stdout",
          "text": [
            "['Um Sonho de Liberdade', 'O Poderoso Chefão', 'Batman - O Cavaleiro das Trevas', 'O Poderoso Chefão II', ' 12 Homens e uma Sentença', 'A Lista de Schindler', 'O Senhor dos Anéis: O Retorno do Rei', 'Pulp Fiction', ' Tempo de Violência', 'O Senhor dos Anéis: A Sociedade do Anel', 'Três Homens em Conflito']\n"
          ]
        }
      ]
    },
    {
      "cell_type": "markdown",
      "metadata": {
        "id": "suxTfCJB6ZiX"
      },
      "source": [
        "Utiliza a conversão `set` e `list` para remover os valores duplicados. Imprima o resultado."
      ]
    },
    {
      "cell_type": "code",
      "metadata": {
        "id": "ZvUGN-0n6joM"
      },
      "source": [
        "# inserir um elemento sem substituir: list.insert(index, val)\n",
        "filmes.insert(0,' Tempo de Violência')\n",
        "filmes.insert(1, 'O Senhor dos Anéis: A Sociedade do Anel')\n",
        "filmes.insert(2, 'Três Homens em Conflito')\n",
        "\n",
        "\n",
        "# remover um elemento pelo valor: list.remove(val)\n",
        "filmes.remove(' Tempo de Violência')\n",
        "filmes.remove('O Senhor dos Anéis: A Sociedade do Anel')\n",
        "filmes.remove('Três Homens em Conflito')\n",
        "\n",
        "print(filmes)\n",
        "\n",
        "#' Tempo de Violência', 'O Senhor dos Anéis: A Sociedade do Anel','Três Homens em Conflito'"
      ],
      "execution_count": null,
      "outputs": []
    },
    {
      "cell_type": "markdown",
      "metadata": {
        "id": "ShkK35eQ6pAM"
      },
      "source": [
        "---"
      ]
    },
    {
      "cell_type": "markdown",
      "metadata": {
        "id": "EL_FzmxL6rTv"
      },
      "source": [
        "## 3\\. Dicionários"
      ]
    },
    {
      "cell_type": "markdown",
      "metadata": {
        "id": "i8l0gFqRCpfT"
      },
      "source": [
        "Repita os exercícios da parte 1 (listas). Os elementos da lista `filmes` devem ser dicionários no seguinte formato: `{'nome': <nome-do-filme>, 'ano': <ano do filme>, 'sinopse': <sinopse do filme>}`."
      ]
    },
    {
      "cell_type": "code",
      "metadata": {
        "id": "tu6MSFwGDnHv"
      },
      "source": [
        "filmes = [\n",
        "         {'nome': 'Um Sonho de Liberdade', 'ano': 1994, 'sinopse': 'Dois homens presos se reúnem ao longo de vários anos.'},\n",
        "         {'nome': 'O Poderoso Chefão', 'ano': 1972, 'sinopse': 'Histórias interligadas de criminosos em Los Angeles.'},\n",
        "         {'nome': 'Batman - O Cavaleiro das Trevas', 'ano': 2008, 'sinopse': 'Um ladrão especializado em extrair informações do subconsciente alheio é encarregado de realizar um trabalho impossível.'},\n",
        "         {'nome': 'O Poderoso Chefão II', 'ano': 1954, 'sinopse': 'Um ladrão especializado em extrair informações do subconsciente alheio é encarregado de realizar um trabalho impossível.'},\n",
        "         {'nome': '12 Homens e uma Sentença', 'ano': 1977, 'sinopse': 'Um ladrão especializado em extrair informações do subconsciente alheio é encarregado de realizar um trabalho impossível.'},\n",
        "         {'nome': 'A Lista de Schindler', 'ano': 1993, 'sinopse': 'Um ladrão especializado em extrair informações do subconsciente alheio é encarregado de realizar um trabalho impossível.'},\n",
        "         {'nome': 'O Senhor dos Anéis: O Retorno do Rei', 'ano': 2003, 'sinopse': 'Um ladrão especializado em extrair informações do subconsciente alheio é encarregado de realizar um trabalho impossível.'},\n",
        "         {'nome': 'Pulp Fiction', 'ano': 1994, 'sinopse': 'Um ladrão especializado em extrair informações do subconsciente alheio é encarregado de realizar um trabalho impossível.'},\n",
        "         {'nome': 'O Senhor dos Anéis: A Sociedade do Anel', 'ano': 2001, 'sinopse': 'Um ladrão especializado em extrair informações do subconsciente alheio é encarregado de realizar um trabalho impossível.'},\n",
        "         {'nome': 'Três Homens em Conflito', 'ano': 1996, 'sinopse': 'Um ladrão especializado em extrair informações do subconsciente alheio é encarregado de realizar um trabalho impossível.'},\n",
        "         ]"
      ],
      "execution_count": 15,
      "outputs": []
    },
    {
      "cell_type": "code",
      "source": [
        "filmes"
      ],
      "metadata": {
        "id": "DuBt519XU0P4"
      },
      "execution_count": null,
      "outputs": []
    }
  ]
}