{
  "nbformat": 4,
  "nbformat_minor": 0,
  "metadata": {
    "colab": {
      "provenance": []
    },
    "kernelspec": {
      "name": "python3",
      "display_name": "Python 3"
    }
  },
  "cells": [
    {
      "cell_type": "markdown",
      "metadata": {
        "id": "KJqp9AANOCtf"
      },
      "source": [
        "<img src=\"https://raw.githubusercontent.com/andre-marcos-perez/ebac-course-utils/main/media/logo/newebac_logo_black_half.png\" alt=\"ebac-logo\">\n",
        "\n",
        "---\n",
        "\n",
        "# **Módulo** | Análise de Dados: Visualização de Dados II\n",
        "Caderno de **Exercícios**<br>\n",
        "Professor [André Perez](https://www.linkedin.com/in/andremarcosperez/)\n",
        "\n",
        "---"
      ]
    },
    {
      "cell_type": "markdown",
      "metadata": {
        "id": "d9jDtUbDOE1-"
      },
      "source": [
        "# **Tópicos**\n",
        "\n",
        "<ol type=\"1\">\n",
        "  <li>Distribuições: Histograma, KDE e Box Plot;</li>\n",
        "  <li>Correlação: Gráfico de Disperção e Mapa de Calor.</li>\n",
        "</ol>"
      ]
    },
    {
      "cell_type": "markdown",
      "metadata": {
        "id": "SmoHgt-lwkpD"
      },
      "source": [
        "---"
      ]
    },
    {
      "cell_type": "markdown",
      "metadata": {
        "id": "GABI6OW8OfQ2"
      },
      "source": [
        "# **Exercícios**"
      ]
    },
    {
      "cell_type": "markdown",
      "metadata": {
        "id": "45DbYPgFhuR7"
      },
      "source": [
        "Nestes exercícios, você deve decidir qual é o gráfico visto em aula que melhor visualiza uma base de dados. Após decidir, você deverá criar a visualização usando o conteúdo exposto durante a aula e adicionar um pequeno parágrafo sobre um insights que pode ser extraido do gráfico."
      ]
    },
    {
      "cell_type": "markdown",
      "metadata": {
        "id": "GWgNoJN8DHyY"
      },
      "source": [
        "## 1\\. Preços `outliers` de diamante"
      ]
    },
    {
      "cell_type": "code",
      "source": [
        "import seaborn as sns\n",
        "\n",
        "data = sns.load_dataset(\"diamonds\")\n",
        "data.head()"
      ],
      "metadata": {
        "id": "CIdSFlJaMJwW"
      },
      "execution_count": null,
      "outputs": []
    },
    {
      "cell_type": "code",
      "source": [
        "diamonds = data[['price']]\n",
        "diamonds\n",
        "\n",
        "with sns.axes_style('whitegrid'):\n",
        "  grafico_1 = sns.boxplot(data=diamonds, x='price')\n",
        "  grafico_1.set(title='Distribuição de Preços de Diamantes com Destaque para Outliers',\n",
        "                xlabel = 'Preços de Diamantes')"
      ],
      "metadata": {
        "id": "LQ8rqPXLwo-h",
        "colab": {
          "base_uri": "https://localhost:8080/",
          "height": 472
        },
        "outputId": "0d528585-9f58-4452-d59d-55dfe5e51c63"
      },
      "execution_count": 10,
      "outputs": [
        {
          "output_type": "display_data",
          "data": {
            "text/plain": [
              "<Figure size 640x480 with 1 Axes>"
            ],
            "image/png": "[encoded data removed]"
          },
          "metadata": {}
        }
      ]
    },
    {
      "cell_type": "markdown",
      "metadata": {
        "id": "T1v54HT4lEfs"
      },
      "source": [
        "**Insight do gráfico 1**: ...\n",
        "\n",
        "Conforme mostra o boxplot valores acima de $125000 são considerados outliers. Basicamente, existem muitos deles no preço dos diamantes."
      ]
    },
    {
      "cell_type": "markdown",
      "metadata": {
        "id": "QPUo5mDTdtRY"
      },
      "source": [
        "---"
      ]
    },
    {
      "cell_type": "markdown",
      "metadata": {
        "id": "wWfZ8iu9dwzz"
      },
      "source": [
        "## 2\\. Correlação entre o do preço do diamante com seu peso (`carat`) agrupados por sua transparêcia (`clarity`)"
      ]
    },
    {
      "cell_type": "code",
      "source": [
        "import seaborn as sns\n",
        "\n",
        "data = sns.load_dataset(\"diamonds\")\n",
        "data.head()\n"
      ],
      "metadata": {
        "id": "xzylO0fMbuGQ"
      },
      "execution_count": null,
      "outputs": []
    },
    {
      "cell_type": "code",
      "source": [
        "diamonds = data[['price', 'carat', 'clarity']]\n",
        "diamonds_grouped = diamonds.groupby('clarity').mean().corr()\n",
        "\n",
        "with sns.axes_style('whitegrid'):\n",
        "\n",
        "  grafico = sns.scatterplot(data=diamonds, x='carat', y='price', hue='clarity', palette='viridis', alpha=0.7)\n",
        "  grafico.set(title='Correlação entre Peso e Preço do Diamante Agrupados por Clareza', xlabel='Peso do Diamante (carat)', ylabel='Preço do Diamante');\n",
        "  grafico.get_legend().set_title(\"Espécie\");"
      ],
      "metadata": {
        "id": "MiEYbV6OuF_x"
      },
      "execution_count": null,
      "outputs": []
    },
    {
      "cell_type": "markdown",
      "metadata": {
        "id": "hKg9CwX6lM3r"
      },
      "source": [
        "**Insight do gráfico 2**: ...\n",
        "\n",
        "Tendência Geral: O gráfico pode revelar uma tendência geral positiva entre o peso do diamante e seu preço, indicando que diamantes mais pesados tendem a ser mais caros.\n",
        "\n",
        "Variação por Clareza: A diferenciação por clareza (VVS1, VVS2, VS1, VS2, SI1, SI2) permite observar se a correlação entre peso e preço varia entre os diferentes níveis de transparência. Pode-se notar se a correlação é consistente ou se há diferenças significativas entre os grupos."
      ]
    },
    {
      "cell_type": "markdown",
      "metadata": {
        "id": "ucbXdtR4dwz1"
      },
      "source": [
        "---"
      ]
    },
    {
      "cell_type": "markdown",
      "metadata": {
        "id": "OybuTdyXdxdS"
      },
      "source": [
        "## 3\\. Distribuição contínua aproximada do peso (`weight`) de carros"
      ]
    },
    {
      "cell_type": "code",
      "source": [
        "import seaborn as sns\n",
        "\n",
        "data = sns.load_dataset(\"mpg\")\n",
        "data.head()"
      ],
      "metadata": {
        "id": "Wdd1XsNPb-BT"
      },
      "execution_count": null,
      "outputs": []
    },
    {
      "cell_type": "code",
      "source": [
        "cars = data[['weight']]\n",
        "\n",
        "with sns.axes_style('darkgrid'):\n",
        "  grafico_3 = sns.histplot(x='weight',data=cars,kde=True)\n",
        "  grafico_3.set(title='Distribuição Contínua Aproximada do Peso de Carros',\n",
        "                xlabel='Peso do Carro (kg)',\n",
        "                ylabel='Densidade')\n"
      ],
      "metadata": {
        "id": "BukX3FeIxL8A"
      },
      "execution_count": null,
      "outputs": []
    },
    {
      "cell_type": "markdown",
      "metadata": {
        "id": "OpIwRWGzlO8Y"
      },
      "source": [
        "**Insight do gráfico 3**: ...\n",
        "\n",
        "Neste exemplo, estou usando a biblioteca Seaborn para criar um histograma com uma curva de densidade (kde) sobreposta. O eixo x representa o peso dos carros, e o eixo y representa a frequência.\n",
        "\n"
      ]
    },
    {
      "cell_type": "markdown",
      "metadata": {
        "id": "wmFKH-DAdxdU"
      },
      "source": [
        "---"
      ]
    }
  ]
}