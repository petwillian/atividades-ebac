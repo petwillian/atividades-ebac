{
  "nbformat": 4,
  "nbformat_minor": 0,
  "metadata": {
    "colab": {
      "provenance": []
    },
    "kernelspec": {
      "name": "python3",
      "display_name": "Python 3"
    }
  },
  "cells": [
    {
      "cell_type": "markdown",
      "metadata": {
        "id": "KJqp9AANOCtf"
      },
      "source": [
        "<img src=\"https://raw.githubusercontent.com/andre-marcos-perez/ebac-course-utils/main/media/logo/newebac_logo_black_half.png\" alt=\"ebac-logo\">\n",
        "\n",
        "---\n",
        "\n",
        "# **Módulo** | Análise de Dados: Visualização de Dados I\n",
        "Caderno de **Exercícios**<br>\n",
        "Professor [André Perez](https://www.linkedin.com/in/andremarcosperez/)\n",
        "\n",
        "---"
      ]
    },
    {
      "cell_type": "markdown",
      "metadata": {
        "id": "d9jDtUbDOE1-"
      },
      "source": [
        "# **Tópicos**\n",
        "\n",
        "<ol type=\"1\">\n",
        "  <li>Pacote Seaborn;</li>\n",
        "  <li>Categorias: Gráficos de Barras e de Setores;</li>\n",
        "  <li>Tendências: Gráficos de Linha e de Área.</li>\n",
        "</ol>"
      ]
    },
    {
      "cell_type": "markdown",
      "metadata": {
        "id": "SmoHgt-lwkpD"
      },
      "source": [
        "---"
      ]
    },
    {
      "cell_type": "markdown",
      "metadata": {
        "id": "GABI6OW8OfQ2"
      },
      "source": [
        "# **Exercícios**"
      ]
    },
    {
      "cell_type": "markdown",
      "metadata": {
        "id": "45DbYPgFhuR7"
      },
      "source": [
        "Nestes exercícios, você deve decidir qual é o gráfico visto em aula que melhor visualiza uma base de dados. Após decidir, você deverá criar a visualização usando o conteúdo exposto durante a aula e adicionar um pequeno parágrafo sobre um insights que pode ser extraido do gráfico."
      ]
    },
    {
      "cell_type": "markdown",
      "metadata": {
        "id": "GWgNoJN8DHyY"
      },
      "source": [
        "## 1\\. Preço do diamante por tipo de corte"
      ]
    },
    {
      "cell_type": "code",
      "source": [
        "import seaborn as sns\n",
        "import matplotlib.pyplot as plt\n",
        "\n",
        "\n",
        "diamonds = sns.load_dataset(\"diamonds\")\n",
        "diamonds.head()"
      ],
      "metadata": {
        "id": "PFKXuFy3KAa1"
      },
      "execution_count": null,
      "outputs": []
    },
    {
      "cell_type": "code",
      "source": [
        "diamonds = diamonds[[\"cut\", \"price\"]].groupby(\"cut\").agg(\"sum\").reset_index()\n",
        "diamonds.head()"
      ],
      "metadata": {
        "id": "EVSgfPPXkHwb"
      },
      "execution_count": null,
      "outputs": []
    },
    {
      "cell_type": "code",
      "source": [
        "grafico = sns.barplot(data=diamonds, x=\"cut\", y=\"price\", ci=None, palette=\"pastel\")\n",
        "grafico.set(title='Distribuição de Preços por Tipo de Corte', xlabel='Tipo de Corte', ylabel='Preço ($)');"
      ],
      "metadata": {
        "id": "HrZTBJ3lk3MK"
      },
      "execution_count": null,
      "outputs": []
    },
    {
      "cell_type": "code",
      "source": [
        "grafico = sns.barplot(data=diamonds, y=\"cut\", x=\"price\", ci=None, palette=\"pastel\")\n",
        "grafico.set(title='Distribuição de Preços por Tipo de Corte', xlabel='Tipo de Corte', ylabel='Preço ($)');"
      ],
      "metadata": {
        "id": "wV2SaMvYllxd"
      },
      "execution_count": null,
      "outputs": []
    },
    {
      "cell_type": "markdown",
      "source": [
        "**Insight do gráfico 1:**"
      ],
      "metadata": {
        "id": "EVlfHkWdhCyR"
      }
    },
    {
      "cell_type": "markdown",
      "metadata": {
        "id": "T1v54HT4lEfs"
      },
      "source": [
        "A análise dos preços dos diamantes em relação ao tipo de corte revela insights valiosos sobre as preferências e valorizações do mercado de joias."
      ]
    },
    {
      "cell_type": "markdown",
      "metadata": {
        "id": "QPUo5mDTdtRY"
      },
      "source": [
        "---"
      ]
    },
    {
      "cell_type": "markdown",
      "metadata": {
        "id": "wWfZ8iu9dwzz"
      },
      "source": [
        "## 2\\. Número de passageiros em dezembro por ano"
      ]
    },
    {
      "cell_type": "code",
      "source": [
        "import seaborn as sns\n",
        "import matplotlib.pyplot as plt\n",
        "\n",
        "\n",
        "flights_data = sns.load_dataset(\"flights\")\n",
        "\n",
        "december_data = flights_data[flights_data['month'] == 'December']\n",
        "\n",
        "plt.figure(figsize=(10, 6))\n",
        "sns.lineplot(x='year', y='passengers', data=flights_data, palette='pastel')\n",
        "plt.title('Número de Passageiros em Dezembro por Ano')\n",
        "plt.xlabel('Ano')\n",
        "plt.ylabel('Número de Passageiros')\n",
        "plt.show()\n"
      ],
      "metadata": {
        "id": "FWOIwOEgKMwr"
      },
      "execution_count": null,
      "outputs": []
    },
    {
      "cell_type": "markdown",
      "metadata": {
        "id": "hKg9CwX6lM3r"
      },
      "source": [
        "**Insight do gráfico 2**: ...\n",
        "\n",
        "Ao analisar os insights sobre o número de passageiros em voos durante o mês de dezembro ao longo dos anos, observa-se uma tendência ascendente significativa. Essa análise revela um aumento constante no volume de passageiros de um ano para o outro. O crescimento contínuo sugere uma demanda crescente por viagens aéreas durante a temporada de férias de dezembro. Essa informação pode ser valiosa para as companhias aéreas, fornecendo insights sobre a sazonalidade do setor e ajudando na otimização de operações, como ajustes na capacidade de voo e estratégias de marketing direcionadas para esse período específico. Esses insights podem, por sua vez, orientar as decisões estratégicas das empresas do setor, permitindo uma melhor adaptação às necessidades e preferências dos passageiros durante o último mês do ano."
      ]
    },
    {
      "cell_type": "code",
      "source": [],
      "metadata": {
        "id": "U3w4YrJXD2GR"
      },
      "execution_count": null,
      "outputs": []
    },
    {
      "cell_type": "markdown",
      "metadata": {
        "id": "ucbXdtR4dwz1"
      },
      "source": [
        "---"
      ]
    },
    {
      "cell_type": "markdown",
      "metadata": {
        "id": "OybuTdyXdxdS"
      },
      "source": [
        "## 3\\. Numero de passageiros por mês entre 1949 e 1959"
      ]
    },
    {
      "cell_type": "markdown",
      "source": [
        "grafico de linha"
      ],
      "metadata": {
        "id": "hqUYzCV7I4l6"
      }
    },
    {
      "cell_type": "code",
      "source": [
        "#import seaborn as sns\n",
        "#import matplotlib.pyplot as plt\n",
        "\n",
        "\n",
        "#flights_data = sns.load_dataset(\"flights\")\n",
        "\n",
        "#filtered_data = flights_data[(flights_data['year'] >= 1949) & (flights_data['year'] <= 1959)]\n",
        "\n",
        "#plt.figure(figsize=(12, 6))\n",
        "#sns.lineplot(x='month', y='passengers', hue='year', data=filtered_data, marker='o')\n",
        "#plt.title('Número de Passageiros por Mês (1949-1959)')\n",
        "#plt.xlabel('Mês')\n",
        "#plt.ylabel('Número de Passageiros')\n",
        "#plt.legend(title='Ano', loc='upper left')\n",
        "#plt.show()\n",
        "\n"
      ],
      "metadata": {
        "id": "eHIQ6u4SPQjM"
      },
      "execution_count": null,
      "outputs": []
    },
    {
      "cell_type": "code",
      "source": [
        "import seaborn as sns\n",
        "\n",
        "data = sns.load_dataset(\"flights\")\n",
        "data.head()"
      ],
      "metadata": {
        "id": "RUXiEZyYGz1B"
      },
      "execution_count": null,
      "outputs": []
    },
    {
      "cell_type": "code",
      "source": [
        "flights = data[[\"year\", \"passengers\"]].groupby(\"year\").agg(\"sum\").reset_index()\n",
        "flights.head()"
      ],
      "metadata": {
        "id": "GHG2pFzbHHHB"
      },
      "execution_count": null,
      "outputs": []
    },
    {
      "cell_type": "code",
      "source": [
        "with sns.axes_style('whitegrid'):\n",
        "\n",
        "  grafico = sns.lineplot(x='month', y='passengers', hue='year', data=filtered_data, marker='o')\n",
        "  grafico.set(title='Número de Passageiros por Mês (1949-1959)', xlabel='month', ylabel='Passageiros');"
      ],
      "metadata": {
        "id": "UuRzlE0cHTnV"
      },
      "execution_count": null,
      "outputs": []
    },
    {
      "cell_type": "code",
      "source": [
        "#filtered_data = flights_data[(flights_data['year'] >= 1949) & (flights_data['year'] <= 1959)]\n",
        "#plt.figure(figsize=(12, 6))\n",
        "#sns.lineplot(x='month', y='passengers', hue='year', data=filtered_data, marker='o')\n",
        "#plt.title('Número de Passageiros por Mês (1949-1959)')\n",
        "#plt.xlabel('Mês')\n",
        "#plt.ylabel('Número de Passageiros')\n",
        "#plt.legend(title='Ano', loc='upper left')\n",
        "#plt.show()"
      ],
      "metadata": {
        "id": "UHao_OogG7LI"
      },
      "execution_count": null,
      "outputs": []
    },
    {
      "cell_type": "markdown",
      "metadata": {
        "id": "OpIwRWGzlO8Y"
      },
      "source": [
        "**Insight do gráfico 3**: ...\n",
        "\n",
        "Durante a década de 1950, o setor de voos comerciais testemunhou um aumento gradual e constante no número de passageiros mensais, representando um período significativo de crescimento na indústria aérea. Entre os anos de 1949 e 1959, a demanda por transporte aéreo aumentou consistentemente, refletindo a crescente popularidade das viagens aéreas. Esse fenômeno pode ser atribuído a diversos fatores, como o desenvolvimento tecnológico na aviação, a expansão das rotas aéreas e a melhoria na acessibilidade aos serviços de transporte aéreo. O aumento contínuo no número de passageiros por mês nesse período evidencia a transição das viagens aéreas de um luxo para uma forma de transporte mais acessível e amplamente adotada pela sociedade. Essa tendência ascendente fornece um insight valioso sobre a dinâmica de crescimento da indústria de aviação comercial durante as primeiras décadas pós-guerra."
      ]
    },
    {
      "cell_type": "markdown",
      "metadata": {
        "id": "wmFKH-DAdxdU"
      },
      "source": [
        "---"
      ]
    }
  ]
}