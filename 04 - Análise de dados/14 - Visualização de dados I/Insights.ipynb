{
  "nbformat": 4,
  "nbformat_minor": 0,
  "metadata": {
    "colab": {
      "provenance": []
    },
    "kernelspec": {
      "name": "python3",
      "display_name": "Python 3"
    },
    "language_info": {
      "name": "python"
    }
  },
  "cells": [
    {
      "cell_type": "code",
      "execution_count": null,
      "metadata": {
        "id": "pJxpOOnqjlyi"
      },
      "outputs": [],
      "source": [
        "import seaborn as sns\n",
        "import matplotlib.pyplot as plt\n",
        "\n",
        "# Exemplo de dados com duas variáveis numéricas\n",
        "dados = sns.load_dataset(\"iris\")\n",
        "\n",
        "# Criando um gráfico de dispersão\n",
        "sns.scatterplot(x=\"sepal_length\", y=\"sepal_width\", data=dados)\n",
        "\n",
        "# Adicionando título e rótulos\n",
        "plt.title('Gráfico de Dispersão - Comprimento x Largura da Sépala')\n",
        "plt.xlabel('Comprimento da Sépala (cm)')\n",
        "plt.ylabel('Largura da Sépala (cm)')\n",
        "\n",
        "# Exibindo o gráfico\n",
        "plt.show()\n"
      ]
    },
    {
      "cell_type": "markdown",
      "source": [
        "Insights que podem ser extraídos deste gráfico de dispersão:\n",
        "\n",
        "Padrões de Dispersão: Observar como os pontos estão distribuídos pode indicar se há uma correlação ou padrão entre o comprimento e a largura da sépala.\n",
        "\n",
        "Outliers: Identificar pontos que se destacam da maioria pode oferecer insights sobre dados incomuns ou anômalos.\n",
        "\n",
        "Relação entre Variáveis: A direção geral da dispersão dos pontos pode indicar a natureza da relação entre as duas variáveis (positiva, negativa ou nenhuma).\n",
        "\n",
        "Se você estava se referindo a outra coisa com \"diamons\", por favor, esclareça para que eu possa fornecer informações mais relevantes."
      ],
      "metadata": {
        "id": "Mt0JRZJqjqUy"
      }
    }
  ]
}